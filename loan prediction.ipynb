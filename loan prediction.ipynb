{
 "cells": [
  {
   "cell_type": "code",
   "execution_count": 168,
   "metadata": {
    "scrolled": false
   },
   "outputs": [],
   "source": [
    "import pandas as pd\n",
    "import os\n",
    "import numpy as np\n",
    "import matplotlib.pyplot as plt\n",
    "import seaborn as sns\n",
    "import warnings"
   ]
  },
  {
   "cell_type": "code",
   "execution_count": 169,
   "metadata": {},
   "outputs": [
    {
     "name": "stdout",
     "output_type": "stream",
     "text": [
      "(614, 13)\n"
     ]
    },
    {
     "data": {
      "text/html": [
       "<div>\n",
       "<style scoped>\n",
       "    .dataframe tbody tr th:only-of-type {\n",
       "        vertical-align: middle;\n",
       "    }\n",
       "\n",
       "    .dataframe tbody tr th {\n",
       "        vertical-align: top;\n",
       "    }\n",
       "\n",
       "    .dataframe thead th {\n",
       "        text-align: right;\n",
       "    }\n",
       "</style>\n",
       "<table border=\"1\" class=\"dataframe\">\n",
       "  <thead>\n",
       "    <tr style=\"text-align: right;\">\n",
       "      <th></th>\n",
       "      <th>Loan_ID</th>\n",
       "      <th>Gender</th>\n",
       "      <th>Married</th>\n",
       "      <th>Dependents</th>\n",
       "      <th>Education</th>\n",
       "      <th>Self_Employed</th>\n",
       "      <th>ApplicantIncome</th>\n",
       "      <th>CoapplicantIncome</th>\n",
       "      <th>LoanAmount</th>\n",
       "      <th>Loan_Amount_Term</th>\n",
       "      <th>Credit_History</th>\n",
       "      <th>Property_Area</th>\n",
       "      <th>Loan_Status</th>\n",
       "    </tr>\n",
       "  </thead>\n",
       "  <tbody>\n",
       "    <tr>\n",
       "      <th>0</th>\n",
       "      <td>LP001002</td>\n",
       "      <td>Male</td>\n",
       "      <td>No</td>\n",
       "      <td>0</td>\n",
       "      <td>Graduate</td>\n",
       "      <td>No</td>\n",
       "      <td>5849</td>\n",
       "      <td>0.0</td>\n",
       "      <td>NaN</td>\n",
       "      <td>360.0</td>\n",
       "      <td>1.0</td>\n",
       "      <td>Urban</td>\n",
       "      <td>1</td>\n",
       "    </tr>\n",
       "    <tr>\n",
       "      <th>1</th>\n",
       "      <td>LP001003</td>\n",
       "      <td>Male</td>\n",
       "      <td>Yes</td>\n",
       "      <td>1</td>\n",
       "      <td>Graduate</td>\n",
       "      <td>No</td>\n",
       "      <td>4583</td>\n",
       "      <td>1508.0</td>\n",
       "      <td>128.0</td>\n",
       "      <td>360.0</td>\n",
       "      <td>1.0</td>\n",
       "      <td>Rural</td>\n",
       "      <td>0</td>\n",
       "    </tr>\n",
       "    <tr>\n",
       "      <th>2</th>\n",
       "      <td>LP001005</td>\n",
       "      <td>Male</td>\n",
       "      <td>Yes</td>\n",
       "      <td>0</td>\n",
       "      <td>Graduate</td>\n",
       "      <td>Yes</td>\n",
       "      <td>3000</td>\n",
       "      <td>0.0</td>\n",
       "      <td>66.0</td>\n",
       "      <td>360.0</td>\n",
       "      <td>1.0</td>\n",
       "      <td>Urban</td>\n",
       "      <td>1</td>\n",
       "    </tr>\n",
       "    <tr>\n",
       "      <th>3</th>\n",
       "      <td>LP001006</td>\n",
       "      <td>Male</td>\n",
       "      <td>Yes</td>\n",
       "      <td>0</td>\n",
       "      <td>Not Graduate</td>\n",
       "      <td>No</td>\n",
       "      <td>2583</td>\n",
       "      <td>2358.0</td>\n",
       "      <td>120.0</td>\n",
       "      <td>360.0</td>\n",
       "      <td>1.0</td>\n",
       "      <td>Urban</td>\n",
       "      <td>1</td>\n",
       "    </tr>\n",
       "    <tr>\n",
       "      <th>4</th>\n",
       "      <td>LP001008</td>\n",
       "      <td>Male</td>\n",
       "      <td>No</td>\n",
       "      <td>0</td>\n",
       "      <td>Graduate</td>\n",
       "      <td>No</td>\n",
       "      <td>6000</td>\n",
       "      <td>0.0</td>\n",
       "      <td>141.0</td>\n",
       "      <td>360.0</td>\n",
       "      <td>1.0</td>\n",
       "      <td>Urban</td>\n",
       "      <td>1</td>\n",
       "    </tr>\n",
       "  </tbody>\n",
       "</table>\n",
       "</div>"
      ],
      "text/plain": [
       "    Loan_ID Gender Married Dependents     Education Self_Employed  \\\n",
       "0  LP001002   Male      No          0      Graduate            No   \n",
       "1  LP001003   Male     Yes          1      Graduate            No   \n",
       "2  LP001005   Male     Yes          0      Graduate           Yes   \n",
       "3  LP001006   Male     Yes          0  Not Graduate            No   \n",
       "4  LP001008   Male      No          0      Graduate            No   \n",
       "\n",
       "   ApplicantIncome  CoapplicantIncome  LoanAmount  Loan_Amount_Term  \\\n",
       "0             5849                0.0         NaN             360.0   \n",
       "1             4583             1508.0       128.0             360.0   \n",
       "2             3000                0.0        66.0             360.0   \n",
       "3             2583             2358.0       120.0             360.0   \n",
       "4             6000                0.0       141.0             360.0   \n",
       "\n",
       "   Credit_History Property_Area  Loan_Status  \n",
       "0             1.0         Urban            1  \n",
       "1             1.0         Rural            0  \n",
       "2             1.0         Urban            1  \n",
       "3             1.0         Urban            1  \n",
       "4             1.0         Urban            1  "
      ]
     },
     "execution_count": 169,
     "metadata": {},
     "output_type": "execute_result"
    }
   ],
   "source": [
    "os.chdir('C:/Users/avinash/Downloads')\n",
    "data=pd.read_csv('train_ctrUa4K.csv')\n",
    "data['Loan_Status'].value_counts(normalize=True)\n",
    "print(data.shape)\n",
    "data['Loan_Status']=data['Loan_Status'].map({\"Y\":1,\"N\":0})\n",
    "data.head()"
   ]
  },
  {
   "cell_type": "code",
   "execution_count": 170,
   "metadata": {},
   "outputs": [
    {
     "data": {
      "text/plain": [
       "array([[ 1., nan],\n",
       "       [nan, nan]])"
      ]
     },
     "execution_count": 170,
     "metadata": {},
     "output_type": "execute_result"
    }
   ],
   "source": [
    "np.corrcoef(data['Loan_Status'],data['Credit_History'])"
   ]
  },
  {
   "cell_type": "code",
   "execution_count": 171,
   "metadata": {},
   "outputs": [
    {
     "data": {
      "text/plain": [
       "<matplotlib.axes._subplots.AxesSubplot at 0x92521abb38>"
      ]
     },
     "execution_count": 171,
     "metadata": {},
     "output_type": "execute_result"
    },
    {
     "data": {
      "image/png": "[encoded data removed]",
      "text/plain": [
       "<Figure size 288x288 with 1 Axes>"
      ]
     },
     "metadata": {
      "needs_background": "light"
     },
     "output_type": "display_data"
    }
   ],
   "source": [
    "Gender=pd.crosstab(data['Gender'],data['Loan_Status'])\n",
    "Gender.div(Gender.sum(1).astype(float), axis=0).plot(kind=\"bar\", stacked=True, figsize=(4,4))"
   ]
  },
  {
   "cell_type": "code",
   "execution_count": 175,
   "metadata": {},
   "outputs": [
    {
     "data": {
      "text/plain": [
       "<matplotlib.axes._subplots.AxesSubplot at 0x9252304d68>"
      ]
     },
     "execution_count": 175,
     "metadata": {},
     "output_type": "execute_result"
    },
    {
     "data": {
      "image/png": "[encoded data removed]",
      "text/plain": [
       "<Figure size 432x288 with 1 Axes>"
      ]
     },
     "metadata": {
      "needs_background": "light"
     },
     "output_type": "display_data"
    }
   ],
   "source": [
    "data['LoanAmount'].hist(bins=20)"
   ]
  },
  {
   "cell_type": "code",
   "execution_count": 174,
   "metadata": {},
   "outputs": [
    {
     "data": {
      "image/png": "[encoded data removed]",
      "text/plain": [
       "<Figure size 432x288 with 1 Axes>"
      ]
     },
     "metadata": {
      "needs_background": "light"
     },
     "output_type": "display_data"
    }
   ],
   "source": [
    "data['LoanAmount_log'] = np.log(data['LoanAmount']).hist(bins=20) "
   ]
  },
  {
   "cell_type": "code",
   "execution_count": 124,
   "metadata": {},
   "outputs": [],
   "source": [
    "y=data['Loan_Status']\n",
    "data=data.drop(columns=['Loan_Status','Loan_ID'])"
   ]
  },
  {
   "cell_type": "code",
   "execution_count": 125,
   "metadata": {},
   "outputs": [
    {
     "data": {
      "text/plain": [
       "<matplotlib.axes._subplots.AxesSubplot at 0x92517716d8>"
      ]
     },
     "execution_count": 125,
     "metadata": {},
     "output_type": "execute_result"
    },
    {
     "data": {
      "image/png": "[encoded data removed]",
      "text/plain": [
       "<Figure size 1152x720 with 2 Axes>"
      ]
     },
     "metadata": {
      "needs_background": "light"
     },
     "output_type": "display_data"
    }
   ],
   "source": [
    "plt.figure(figsize=(16,10))\n",
    "\n",
    "sns.heatmap(data.corr(),annot=True, cmap=\"YlGnBu\")"
   ]
  },
  {
   "cell_type": "code",
   "execution_count": 53,
   "metadata": {},
   "outputs": [
    {
     "data": {
      "text/plain": [
       "1.0    475\n",
       "0.0     89\n",
       "Name: Credit_History, dtype: int64"
      ]
     },
     "execution_count": 53,
     "metadata": {},
     "output_type": "execute_result"
    }
   ],
   "source": [
    "data['Credit_History'].value_counts()"
   ]
  },
  {
   "cell_type": "code",
   "execution_count": 126,
   "metadata": {},
   "outputs": [
    {
     "data": {
      "text/html": [
       "<div>\n",
       "<style scoped>\n",
       "    .dataframe tbody tr th:only-of-type {\n",
       "        vertical-align: middle;\n",
       "    }\n",
       "\n",
       "    .dataframe tbody tr th {\n",
       "        vertical-align: top;\n",
       "    }\n",
       "\n",
       "    .dataframe thead th {\n",
       "        text-align: right;\n",
       "    }\n",
       "</style>\n",
       "<table border=\"1\" class=\"dataframe\">\n",
       "  <thead>\n",
       "    <tr style=\"text-align: right;\">\n",
       "      <th></th>\n",
       "      <th>Column_name</th>\n",
       "      <th>Na_Count</th>\n",
       "      <th>Na_Percentage</th>\n",
       "    </tr>\n",
       "  </thead>\n",
       "  <tbody>\n",
       "    <tr>\n",
       "      <th>Credit_History</th>\n",
       "      <td>Credit_History</td>\n",
       "      <td>50</td>\n",
       "      <td>8.143322</td>\n",
       "    </tr>\n",
       "    <tr>\n",
       "      <th>Self_Employed</th>\n",
       "      <td>Self_Employed</td>\n",
       "      <td>32</td>\n",
       "      <td>5.211726</td>\n",
       "    </tr>\n",
       "    <tr>\n",
       "      <th>LoanAmount</th>\n",
       "      <td>LoanAmount</td>\n",
       "      <td>22</td>\n",
       "      <td>3.583062</td>\n",
       "    </tr>\n",
       "    <tr>\n",
       "      <th>Dependents</th>\n",
       "      <td>Dependents</td>\n",
       "      <td>15</td>\n",
       "      <td>2.442997</td>\n",
       "    </tr>\n",
       "    <tr>\n",
       "      <th>Loan_Amount_Term</th>\n",
       "      <td>Loan_Amount_Term</td>\n",
       "      <td>14</td>\n",
       "      <td>2.280130</td>\n",
       "    </tr>\n",
       "    <tr>\n",
       "      <th>Gender</th>\n",
       "      <td>Gender</td>\n",
       "      <td>13</td>\n",
       "      <td>2.117264</td>\n",
       "    </tr>\n",
       "    <tr>\n",
       "      <th>Married</th>\n",
       "      <td>Married</td>\n",
       "      <td>3</td>\n",
       "      <td>0.488599</td>\n",
       "    </tr>\n",
       "    <tr>\n",
       "      <th>Education</th>\n",
       "      <td>Education</td>\n",
       "      <td>0</td>\n",
       "      <td>0.000000</td>\n",
       "    </tr>\n",
       "    <tr>\n",
       "      <th>ApplicantIncome</th>\n",
       "      <td>ApplicantIncome</td>\n",
       "      <td>0</td>\n",
       "      <td>0.000000</td>\n",
       "    </tr>\n",
       "    <tr>\n",
       "      <th>CoapplicantIncome</th>\n",
       "      <td>CoapplicantIncome</td>\n",
       "      <td>0</td>\n",
       "      <td>0.000000</td>\n",
       "    </tr>\n",
       "    <tr>\n",
       "      <th>Property_Area</th>\n",
       "      <td>Property_Area</td>\n",
       "      <td>0</td>\n",
       "      <td>0.000000</td>\n",
       "    </tr>\n",
       "  </tbody>\n",
       "</table>\n",
       "</div>"
      ],
      "text/plain": [
       "                         Column_name  Na_Count  Na_Percentage\n",
       "Credit_History        Credit_History        50       8.143322\n",
       "Self_Employed          Self_Employed        32       5.211726\n",
       "LoanAmount                LoanAmount        22       3.583062\n",
       "Dependents                Dependents        15       2.442997\n",
       "Loan_Amount_Term    Loan_Amount_Term        14       2.280130\n",
       "Gender                        Gender        13       2.117264\n",
       "Married                      Married         3       0.488599\n",
       "Education                  Education         0       0.000000\n",
       "ApplicantIncome      ApplicantIncome         0       0.000000\n",
       "CoapplicantIncome  CoapplicantIncome         0       0.000000\n",
       "Property_Area          Property_Area         0       0.000000"
      ]
     },
     "execution_count": 126,
     "metadata": {},
     "output_type": "execute_result"
    }
   ],
   "source": [
    "na_df=pd.DataFrame({\"Column_name\":data.columns,\n",
    "                     \"Na_Count\":data.isnull().sum(),\n",
    "                     \"Na_Percentage\":data.isnull().sum()/data.shape[0]*100})\n",
    "na_df\n",
    "na_df.sort_values(by=\"Na_Percentage\",ascending=False)"
   ]
  },
  {
   "cell_type": "code",
   "execution_count": 127,
   "metadata": {},
   "outputs": [],
   "source": [
    "import warnings\n",
    "warnings.filterwarnings(\"ignore\")\n",
    "from sklearn.model_selection import train_test_split\n",
    "X_train,X_test,y_train,y_test=train_test_split(data,y,train_size=0.3,random_state=0)"
   ]
  },
  {
   "cell_type": "code",
   "execution_count": 128,
   "metadata": {},
   "outputs": [],
   "source": [
    "num_cols=[col for col in X_train.columns if X_train[col].dtype==\"int64\" or X_train[col].dtype==\"float64\"]\n",
    "num_cols\n",
    "\n",
    "for ele in num_cols:\n",
    "    X_train[ele]=X_train[ele].fillna(X_train[ele].mean())\n",
    "    X_test[ele]=X_test[ele].fillna(X_train[ele].mean())"
   ]
  },
  {
   "cell_type": "code",
   "execution_count": 129,
   "metadata": {},
   "outputs": [],
   "source": [
    "cat_cols=[col for col in X_train.columns if X_train[col].dtype==\"object\"]\n",
    "cat_cols\n",
    "for ele in cat_cols:\n",
    "    X_train[ele]=X_train[ele].fillna(X_train[ele].mode()[0])#filling the missing values for categorical values using mode.\n",
    "    X_test[ele]=X_test[ele].fillna(X_train[ele].mode()[0])    "
   ]
  },
  {
   "cell_type": "code",
   "execution_count": 35,
   "metadata": {},
   "outputs": [],
   "source": [
    "#cols_to_drop=[col for col in data.columns if len(np.unique(data[col]==data[col].shape[0])) or len(np.unique(data[col]))==1]\n",
    "#cols_to_drop"
   ]
  },
  {
   "cell_type": "code",
   "execution_count": 130,
   "metadata": {},
   "outputs": [
    {
     "data": {
      "text/plain": [
       "Gender               0\n",
       "Married              0\n",
       "Dependents           0\n",
       "Education            0\n",
       "Self_Employed        0\n",
       "ApplicantIncome      0\n",
       "CoapplicantIncome    0\n",
       "LoanAmount           0\n",
       "Loan_Amount_Term     0\n",
       "Credit_History       0\n",
       "Property_Area        0\n",
       "dtype: int64"
      ]
     },
     "execution_count": 130,
     "metadata": {},
     "output_type": "execute_result"
    }
   ],
   "source": [
    "X_train.isnull().sum()"
   ]
  },
  {
   "cell_type": "code",
   "execution_count": 131,
   "metadata": {},
   "outputs": [],
   "source": [
    "from sklearn.preprocessing import LabelEncoder\n",
    "\n",
    "class LabelEncoderExt(object):\n",
    "    def __init__(self):\n",
    "        \"\"\"\n",
    "        It differs from LabelEncoder by handling new classes and providing a value for it [Unknown]\n",
    "        Unknown will be added in fit and transform will take care of new item. It gives unknown class id\n",
    "        \"\"\"\n",
    "        self.label_encoder = LabelEncoder()\n",
    "        # self.classes_ = self.label_encoder.classes_\n",
    "\n",
    "    def fit(self, data_list):\n",
    "        \"\"\"\n",
    "        This will fit the encoder for all the unique values and introduce unknown value\n",
    "        :param data_list: A list of string\n",
    "        :return: self\n",
    "        \"\"\"\n",
    "        self.label_encoder = self.label_encoder.fit(list(data_list) + ['Unknown'])\n",
    "        self.classes_ = self.label_encoder.classes_\n",
    "\n",
    "        return self\n",
    "\n",
    "    def transform(self, data_list):\n",
    "        \"\"\"\n",
    "        This will transform the data_list to id list where the new values get assigned to Unknown class\n",
    "        :param data_list:\n",
    "        :return:\n",
    "        \"\"\"\n",
    "        new_data_list = list(data_list)\n",
    "        for unique_item in np.unique(data_list):\n",
    "            if unique_item not in self.label_encoder.classes_:\n",
    "                new_data_list = ['Unknown' if x==unique_item else x for x in new_data_list]\n",
    "\n",
    "        return self.label_encoder.transform(new_data_list)"
   ]
  },
  {
   "cell_type": "code",
   "execution_count": 132,
   "metadata": {},
   "outputs": [
    {
     "data": {
      "text/html": [
       "<div>\n",
       "<style scoped>\n",
       "    .dataframe tbody tr th:only-of-type {\n",
       "        vertical-align: middle;\n",
       "    }\n",
       "\n",
       "    .dataframe tbody tr th {\n",
       "        vertical-align: top;\n",
       "    }\n",
       "\n",
       "    .dataframe thead th {\n",
       "        text-align: right;\n",
       "    }\n",
       "</style>\n",
       "<table border=\"1\" class=\"dataframe\">\n",
       "  <thead>\n",
       "    <tr style=\"text-align: right;\">\n",
       "      <th></th>\n",
       "      <th>Gender</th>\n",
       "      <th>Married</th>\n",
       "      <th>Dependents</th>\n",
       "      <th>Education</th>\n",
       "      <th>Self_Employed</th>\n",
       "      <th>ApplicantIncome</th>\n",
       "      <th>CoapplicantIncome</th>\n",
       "      <th>LoanAmount</th>\n",
       "      <th>Loan_Amount_Term</th>\n",
       "      <th>Credit_History</th>\n",
       "      <th>Property_Area</th>\n",
       "    </tr>\n",
       "  </thead>\n",
       "  <tbody>\n",
       "    <tr>\n",
       "      <th>214</th>\n",
       "      <td>1</td>\n",
       "      <td>2</td>\n",
       "      <td>0</td>\n",
       "      <td>0</td>\n",
       "      <td>0</td>\n",
       "      <td>3173</td>\n",
       "      <td>3021.0</td>\n",
       "      <td>137.0</td>\n",
       "      <td>360.0</td>\n",
       "      <td>1.0000</td>\n",
       "      <td>3</td>\n",
       "    </tr>\n",
       "    <tr>\n",
       "      <th>565</th>\n",
       "      <td>1</td>\n",
       "      <td>2</td>\n",
       "      <td>0</td>\n",
       "      <td>1</td>\n",
       "      <td>0</td>\n",
       "      <td>4467</td>\n",
       "      <td>0.0</td>\n",
       "      <td>120.0</td>\n",
       "      <td>360.0</td>\n",
       "      <td>0.8375</td>\n",
       "      <td>0</td>\n",
       "    </tr>\n",
       "    <tr>\n",
       "      <th>204</th>\n",
       "      <td>1</td>\n",
       "      <td>2</td>\n",
       "      <td>2</td>\n",
       "      <td>1</td>\n",
       "      <td>0</td>\n",
       "      <td>3917</td>\n",
       "      <td>0.0</td>\n",
       "      <td>124.0</td>\n",
       "      <td>360.0</td>\n",
       "      <td>1.0000</td>\n",
       "      <td>1</td>\n",
       "    </tr>\n",
       "    <tr>\n",
       "      <th>234</th>\n",
       "      <td>1</td>\n",
       "      <td>2</td>\n",
       "      <td>1</td>\n",
       "      <td>0</td>\n",
       "      <td>0</td>\n",
       "      <td>3155</td>\n",
       "      <td>1779.0</td>\n",
       "      <td>140.0</td>\n",
       "      <td>360.0</td>\n",
       "      <td>1.0000</td>\n",
       "      <td>1</td>\n",
       "    </tr>\n",
       "    <tr>\n",
       "      <th>259</th>\n",
       "      <td>1</td>\n",
       "      <td>2</td>\n",
       "      <td>3</td>\n",
       "      <td>1</td>\n",
       "      <td>0</td>\n",
       "      <td>4931</td>\n",
       "      <td>0.0</td>\n",
       "      <td>128.0</td>\n",
       "      <td>360.0</td>\n",
       "      <td>0.8375</td>\n",
       "      <td>1</td>\n",
       "    </tr>\n",
       "  </tbody>\n",
       "</table>\n",
       "</div>"
      ],
      "text/plain": [
       "     Gender  Married  Dependents  Education  Self_Employed  ApplicantIncome  \\\n",
       "214       1        2           0          0              0             3173   \n",
       "565       1        2           0          1              0             4467   \n",
       "204       1        2           2          1              0             3917   \n",
       "234       1        2           1          0              0             3155   \n",
       "259       1        2           3          1              0             4931   \n",
       "\n",
       "     CoapplicantIncome  LoanAmount  Loan_Amount_Term  Credit_History  \\\n",
       "214             3021.0       137.0             360.0          1.0000   \n",
       "565                0.0       120.0             360.0          0.8375   \n",
       "204                0.0       124.0             360.0          1.0000   \n",
       "234             1779.0       140.0             360.0          1.0000   \n",
       "259                0.0       128.0             360.0          0.8375   \n",
       "\n",
       "     Property_Area  \n",
       "214              3  \n",
       "565              0  \n",
       "204              1  \n",
       "234              1  \n",
       "259              1  "
      ]
     },
     "execution_count": 132,
     "metadata": {},
     "output_type": "execute_result"
    }
   ],
   "source": [
    "label_encoder=LabelEncoderExt()\n",
    "for col in cat_cols:\n",
    "        label_encoder.fit(X_train[col])\n",
    "        X_train[col]=label_encoder.transform(X_train[col])\n",
    "        X_test[col]=label_encoder.transform(X_test[col])\n",
    "        \n",
    "X_train.head()"
   ]
  },
  {
   "cell_type": "code",
   "execution_count": 133,
   "metadata": {},
   "outputs": [],
   "source": [
    "from sklearn.preprocessing import MinMaxScaler\n",
    "min_max=MinMaxScaler(feature_range=(0,1),copy=True)\n",
    "\n",
    "for col in num_cols:\n",
    "    X_train[col]=min_max.fit_transform(np.array(X_train[col]).reshape(-1,1))\n",
    "    X_test[col]=min_max.transform(np.array(X_test[col]).reshape(-1,1))"
   ]
  },
  {
   "cell_type": "code",
   "execution_count": 134,
   "metadata": {},
   "outputs": [],
   "source": [
    "from sklearn.linear_model import LogisticRegression\n",
    "log_reg=LogisticRegression()\n",
    "log_reg.fit(X_train,y_train)\n",
    "y_pred=log_reg.predict(X_test)"
   ]
  },
  {
   "cell_type": "code",
   "execution_count": 135,
   "metadata": {},
   "outputs": [
    {
     "data": {
      "text/plain": [
       "array([[ 59,  70],\n",
       "       [  4, 297]], dtype=int64)"
      ]
     },
     "execution_count": 135,
     "metadata": {},
     "output_type": "execute_result"
    }
   ],
   "source": [
    "from sklearn.metrics import confusion_matrix,accuracy_score,precision_score,recall_score,roc_auc_score,roc_curve\n",
    "\n",
    "confusion_matrix=confusion_matrix(y_test,y_pred)\n",
    "confusion_matrix"
   ]
  },
  {
   "cell_type": "code",
   "execution_count": 136,
   "metadata": {},
   "outputs": [
    {
     "data": {
      "text/plain": [
       "0.827906976744186"
      ]
     },
     "execution_count": 136,
     "metadata": {},
     "output_type": "execute_result"
    }
   ],
   "source": [
    "accuracy=accuracy_score(y_test,y_pred)\n",
    "accuracy"
   ]
  },
  {
   "cell_type": "code",
   "execution_count": 137,
   "metadata": {},
   "outputs": [
    {
     "data": {
      "text/plain": [
       "0.8092643051771117"
      ]
     },
     "execution_count": 137,
     "metadata": {},
     "output_type": "execute_result"
    }
   ],
   "source": [
    "precision=precision_score(y_test,y_pred)\n",
    "precision\n"
   ]
  },
  {
   "cell_type": "code",
   "execution_count": 138,
   "metadata": {},
   "outputs": [
    {
     "data": {
      "text/plain": [
       "0.9867109634551495"
      ]
     },
     "execution_count": 138,
     "metadata": {},
     "output_type": "execute_result"
    }
   ],
   "source": [
    "recall=recall_score(y_test,y_pred)\n",
    "recall"
   ]
  },
  {
   "cell_type": "code",
   "execution_count": 140,
   "metadata": {},
   "outputs": [
    {
     "data": {
      "image/png": "[encoded data removed]",
      "text/plain": [
       "<Figure size 432x288 with 1 Axes>"
      ]
     },
     "metadata": {
      "needs_background": "light"
     },
     "output_type": "display_data"
    }
   ],
   "source": [
    "y_pred_proba=log_reg.predict_proba(X_test)[::,1]\n",
    "\n",
    "fpr,tpr,thresholds=roc_curve(y_test,y_pred_proba)\n",
    "\n",
    "auc = roc_auc_score(y_test, y_pred_proba)\n",
    "\n",
    "plt.plot(fpr,tpr,label=\"auc=\"+str(auc))\n",
    "plt.xlabel('False Positive Rate')\n",
    "plt.ylabel('True Positive Rate')\n",
    "plt.title('AUC-ROC Curve')\n",
    "plt.legend(loc=8)\n",
    "plt.show()\n"
   ]
  },
  {
   "cell_type": "code",
   "execution_count": 17,
   "metadata": {},
   "outputs": [],
   "source": [
    "from sklearn.model_selection import KFold\n",
    "kf=KFold(n_splits=3)\n",
    "    "
   ]
  },
  {
   "cell_type": "code",
   "execution_count": 18,
   "metadata": {},
   "outputs": [],
   "source": [
    "#def get_score(model,x_train,y_train,x_test,y_test):\n",
    "   # model.fit(x_train,y_train)\n",
    "  #  return model.score(x_test,y_test)"
   ]
  },
  {
   "cell_type": "code",
   "execution_count": 19,
   "metadata": {},
   "outputs": [],
   "source": [
    "#for train_index,test_index in kf.split(data):\n",
    "  #  x_train,x_test,y_train,y_test=data.index[train_index] ,data.index[test_index],\n",
    " #   data.traget[train_index],data.traget[test_index]\n",
    "\n",
    "#print(get_score(LogisticRegression(),x_train,y_train,x_test,y_test))\n",
    "                "
   ]
  },
  {
   "cell_type": "code",
   "execution_count": 145,
   "metadata": {},
   "outputs": [
    {
     "name": "stdout",
     "output_type": "stream",
     "text": [
      "{'criterion': 'entropy', 'max_depth': 5, 'min_samples_leaf': 4, 'min_samples_split': 3}\n",
      "0.7282608695652174\n"
     ]
    }
   ],
   "source": [
    "from sklearn.tree import DecisionTreeClassifier\n",
    "from sklearn.model_selection  import GridSearchCV,RandomizedSearchCV\n",
    "parmeter={\"criterion\":[\"entropy\"],\n",
    "          \"max_depth\":[5,6,7,8,9],\n",
    "          \"min_samples_split\":[3,4,5,6,7],\n",
    "          \"min_samples_leaf\":[1,2,3,4,5]}\n",
    "tree=DecisionTreeClassifier(random_state=42)\n",
    "tree\n",
    "\n",
    "gd_cv=GridSearchCV(estimator=tree,param_grid=parmeter,cv=5)\n",
    "\n",
    "gd_cv.fit(X_train,y_train)\n",
    "\n",
    "print(gd_cv.best_params_)\n",
    "\n",
    "print(gd_cv.best_score_)\n",
    "\n",
    "\n"
   ]
  },
  {
   "cell_type": "code",
   "execution_count": 147,
   "metadata": {},
   "outputs": [
    {
     "name": "stdout",
     "output_type": "stream",
     "text": [
      "{'min_samples_split': 3, 'min_samples_leaf': 5, 'max_depth': 9, 'criterion': 'entropy'}\n",
      "0.7119565217391305\n"
     ]
    }
   ],
   "source": [
    "rd_cv=RandomizedSearchCV(estimator=tree,param_distributions=parmeter,cv=5, n_iter=10)\n",
    "\n",
    "rd_cv.fit(X_train,y_train)\n",
    "\n",
    "print(rd_cv.best_params_)\n",
    "\n",
    "print(rd_cv.best_score_)"
   ]
  },
  {
   "cell_type": "code",
   "execution_count": 148,
   "metadata": {},
   "outputs": [],
   "source": [
    "tree=DecisionTreeClassifier(criterion='entropy',random_state=42,max_depth=7,min_samples_split=3,min_samples_leaf=3)\n",
    "tree.fit(X_train,y_train)\n",
    "y_pred1=tree.predict(X_test)\n"
   ]
  },
  {
   "cell_type": "code",
   "execution_count": 149,
   "metadata": {},
   "outputs": [
    {
     "data": {
      "text/plain": [
       "array([[ 75,  54],\n",
       "       [ 57, 244]], dtype=int64)"
      ]
     },
     "execution_count": 149,
     "metadata": {},
     "output_type": "execute_result"
    }
   ],
   "source": [
    "from sklearn.metrics import confusion_matrix,accuracy_score,precision_score,recall_score,roc_auc_score,roc_curve\n",
    "confusion_matrix=confusion_matrix(y_test,y_pred1)\n",
    "confusion_matrix\n"
   ]
  },
  {
   "cell_type": "code",
   "execution_count": 150,
   "metadata": {},
   "outputs": [
    {
     "data": {
      "text/plain": [
       "0.8106312292358804"
      ]
     },
     "execution_count": 150,
     "metadata": {},
     "output_type": "execute_result"
    }
   ],
   "source": [
    "recall=recall_score(y_test,y_pred1)\n",
    "recall\n"
   ]
  },
  {
   "cell_type": "code",
   "execution_count": 151,
   "metadata": {},
   "outputs": [
    {
     "data": {
      "text/plain": [
       "0.8187919463087249"
      ]
     },
     "execution_count": 151,
     "metadata": {},
     "output_type": "execute_result"
    }
   ],
   "source": [
    "prec=precision_score(y_test,y_pred1)\n",
    "prec"
   ]
  },
  {
   "cell_type": "code",
   "execution_count": 152,
   "metadata": {},
   "outputs": [
    {
     "data": {
      "text/plain": [
       "0.7418604651162791"
      ]
     },
     "execution_count": 152,
     "metadata": {},
     "output_type": "execute_result"
    }
   ],
   "source": [
    "accuracy=accuracy_score(y_test,y_pred1)\n",
    "accuracy"
   ]
  },
  {
   "cell_type": "code",
   "execution_count": 153,
   "metadata": {},
   "outputs": [
    {
     "data": {
      "image/png": "[encoded data removed]",
      "text/plain": [
       "<Figure size 432x288 with 1 Axes>"
      ]
     },
     "metadata": {
      "needs_background": "light"
     },
     "output_type": "display_data"
    }
   ],
   "source": [
    "y_pred_proba_1=tree.predict_proba(X_test)[::,1]\n",
    "\n",
    "\n",
    "fpr,tpr,thresholds=roc_curve(y_test,y_pred_proba_1)\n",
    "\n",
    "auc = roc_auc_score(y_test, y_pred_proba_1)\n",
    "\n",
    "plt.plot(fpr,tpr,label=\"auc=\"+str(auc))\n",
    "plt.xlabel('False Positive Rate')\n",
    "plt.ylabel('True Positive Rate')\n",
    "plt.title('AUC-ROC Curve')\n",
    "plt.legend(loc=8)\n",
    "plt.show()\n"
   ]
  },
  {
   "cell_type": "code",
   "execution_count": 155,
   "metadata": {},
   "outputs": [
    {
     "data": {
      "text/plain": [
       "array([0.67391304, 0.67391304, 0.67391304, 0.67391304, 1.        ,\n",
       "       0.        , 1.        , 0.67391304, 0.        , 1.        ,\n",
       "       1.        , 1.        , 0.67391304, 0.67391304, 0.67391304,\n",
       "       0.69230769, 1.        , 0.25      , 0.25      , 0.        ,\n",
       "       0.        , 0.66666667, 0.3       , 0.3       , 0.66666667,\n",
       "       0.67391304, 0.69230769, 0.67391304, 0.        , 0.        ,\n",
       "       0.67391304, 0.3       , 0.66666667, 0.3       , 0.67391304,\n",
       "       0.        , 0.66666667, 0.75      , 0.67391304, 0.69230769,\n",
       "       1.        , 0.        , 0.        , 0.67391304, 0.69230769,\n",
       "       0.3       , 0.69230769, 0.67391304, 0.3       , 1.        ,\n",
       "       1.        , 0.67391304, 0.66666667, 0.69230769, 0.        ,\n",
       "       0.67391304, 1.        , 0.3       , 1.        , 0.3       ,\n",
       "       0.        , 0.67391304, 1.        , 0.        , 0.67391304,\n",
       "       0.67391304, 1.        , 0.75      , 1.        , 1.        ,\n",
       "       0.75      , 0.66666667, 1.        , 1.        , 0.69230769,\n",
       "       1.        , 0.75      , 0.3       , 0.67391304, 0.        ,\n",
       "       0.33333333, 0.67391304, 0.3       , 0.67391304, 1.        ,\n",
       "       1.        , 1.        , 1.        , 1.        , 0.66666667,\n",
       "       1.        , 1.        , 1.        , 0.        , 1.        ,\n",
       "       0.        , 1.        , 1.        , 1.        , 0.67391304,\n",
       "       0.3       , 1.        , 0.3       , 1.        , 0.67391304,\n",
       "       0.67391304, 0.75      , 1.        , 1.        , 1.        ,\n",
       "       0.3       , 0.25      , 0.69230769, 1.        , 0.        ,\n",
       "       0.        , 1.        , 0.75      , 0.66666667, 0.3       ,\n",
       "       0.67391304, 0.        , 1.        , 1.        , 0.67391304,\n",
       "       0.33333333, 1.        , 0.67391304, 0.3       , 1.        ,\n",
       "       0.25      , 0.69230769, 0.25      , 0.25      , 0.3       ,\n",
       "       1.        , 1.        , 0.69230769, 1.        , 1.        ,\n",
       "       1.        , 0.67391304, 0.        , 1.        , 0.67391304,\n",
       "       0.3       , 0.66666667, 0.67391304, 0.        , 0.        ,\n",
       "       0.67391304, 0.67391304, 0.67391304, 0.        , 0.67391304,\n",
       "       1.        , 0.3       , 0.67391304, 0.25      , 0.3       ,\n",
       "       0.67391304, 0.67391304, 0.67391304, 1.        , 1.        ,\n",
       "       1.        , 0.67391304, 0.25      , 0.        , 0.67391304,\n",
       "       0.33333333, 1.        , 0.67391304, 1.        , 0.3       ,\n",
       "       0.69230769, 0.3       , 1.        , 0.67391304, 1.        ,\n",
       "       1.        , 0.69230769, 1.        , 1.        , 0.67391304,\n",
       "       0.3       , 1.        , 0.66666667, 0.        , 0.67391304,\n",
       "       0.66666667, 0.3       , 1.        , 1.        , 0.        ,\n",
       "       0.3       , 0.67391304, 1.        , 0.        , 0.67391304,\n",
       "       0.3       , 0.69230769, 1.        , 0.        , 0.3       ,\n",
       "       0.3       , 0.        , 1.        , 0.66666667, 1.        ,\n",
       "       0.67391304, 1.        , 1.        , 0.        , 1.        ,\n",
       "       0.        , 0.69230769, 0.        , 0.3       , 1.        ,\n",
       "       1.        , 1.        , 0.67391304, 0.66666667, 0.3       ,\n",
       "       0.67391304, 0.67391304, 0.66666667, 0.3       , 0.3       ,\n",
       "       0.66666667, 1.        , 0.67391304, 0.3       , 1.        ,\n",
       "       0.67391304, 0.        , 0.67391304, 0.        , 0.66666667,\n",
       "       0.69230769, 0.3       , 0.        , 1.        , 0.66666667,\n",
       "       1.        , 0.67391304, 0.67391304, 1.        , 0.        ,\n",
       "       0.66666667, 0.66666667, 1.        , 0.25      , 1.        ,\n",
       "       0.67391304, 1.        , 0.67391304, 0.3       , 1.        ,\n",
       "       0.66666667, 1.        , 1.        , 1.        , 0.67391304,\n",
       "       0.67391304, 1.        , 0.25      , 1.        , 0.33333333,\n",
       "       0.66666667, 1.        , 0.67391304, 1.        , 0.69230769,\n",
       "       0.66666667, 1.        , 0.3       , 1.        , 0.25      ,\n",
       "       0.        , 1.        , 1.        , 1.        , 1.        ,\n",
       "       0.3       , 0.3       , 0.67391304, 0.67391304, 1.        ,\n",
       "       0.67391304, 0.67391304, 0.69230769, 0.3       , 1.        ,\n",
       "       0.67391304, 0.67391304, 0.3       , 1.        , 0.33333333,\n",
       "       1.        , 0.        , 1.        , 0.3       , 0.25      ,\n",
       "       0.        , 1.        , 0.        , 1.        , 0.3       ,\n",
       "       0.66666667, 0.67391304, 0.69230769, 0.        , 1.        ,\n",
       "       1.        , 1.        , 0.69230769, 0.3       , 1.        ,\n",
       "       0.67391304, 1.        , 0.67391304, 1.        , 0.75      ,\n",
       "       0.69230769, 1.        , 0.67391304, 0.33333333, 0.33333333,\n",
       "       1.        , 1.        , 0.67391304, 0.25      , 0.        ,\n",
       "       1.        , 1.        , 0.75      , 0.3       , 0.3       ,\n",
       "       0.        , 0.25      , 0.66666667, 0.        , 0.69230769,\n",
       "       0.3       , 0.67391304, 1.        , 0.69230769, 1.        ,\n",
       "       0.67391304, 0.33333333, 1.        , 1.        , 1.        ,\n",
       "       0.67391304, 0.67391304, 0.3       , 1.        , 0.33333333,\n",
       "       1.        , 0.67391304, 1.        , 0.67391304, 0.67391304,\n",
       "       0.25      , 1.        , 0.25      , 0.        , 1.        ,\n",
       "       0.69230769, 1.        , 0.        , 0.25      , 1.        ,\n",
       "       0.3       , 0.25      , 0.66666667, 1.        , 1.        ,\n",
       "       1.        , 0.69230769, 1.        , 1.        , 1.        ,\n",
       "       0.69230769, 0.67391304, 1.        , 1.        , 0.        ,\n",
       "       0.25      , 1.        , 0.67391304, 1.        , 1.        ,\n",
       "       0.67391304, 0.69230769, 0.69230769, 0.3       , 0.        ,\n",
       "       0.3       , 0.        , 0.67391304, 0.        , 1.        ,\n",
       "       0.67391304, 1.        , 1.        , 0.69230769, 0.67391304,\n",
       "       1.        , 0.3       , 0.3       , 0.33333333, 0.69230769,\n",
       "       0.67391304, 0.69230769, 0.69230769, 0.3       , 1.        ,\n",
       "       0.25      , 0.66666667, 0.67391304, 0.69230769, 0.3       ,\n",
       "       0.66666667, 0.67391304, 0.69230769, 1.        , 1.        ])"
      ]
     },
     "execution_count": 155,
     "metadata": {},
     "output_type": "execute_result"
    }
   ],
   "source": [
    "fpr,tpr,thresholds\n",
    "y_pred_proba_1=tree.predict_proba(X_test)[::,1]\n",
    "y_pred_proba_1"
   ]
  },
  {
   "cell_type": "code",
   "execution_count": 156,
   "metadata": {},
   "outputs": [
    {
     "data": {
      "text/plain": [
       "{'bootstrap': True,\n",
       " 'criterion': ['entropy'],\n",
       " 'max_depth': [10, 11, 12, 13, 14, 15],\n",
       " 'min_samples_split': [1, 2, 3, 4, 5],\n",
       " 'min_samples_leaf': [5, 6, 7, 8, 9],\n",
       " 'random_state': 10}"
      ]
     },
     "execution_count": 156,
     "metadata": {},
     "output_type": "execute_result"
    }
   ],
   "source": [
    "from sklearn.ensemble import RandomForestClassifier\n",
    "clf=RandomForestClassifier()\n",
    "clf\n",
    "parameter={\"bootstrap\":True,\n",
    "           \"criterion\":[\"entropy\"],\n",
    "           \"max_depth\":[10,11,12,13,14,15],\n",
    "           \"min_samples_split\":[1,2,3,4,5],\n",
    "           \"min_samples_leaf\":[5,6,7,8,9],\n",
    "           \"random_state\":10}\n",
    "parameter"
   ]
  },
  {
   "cell_type": "code",
   "execution_count": 157,
   "metadata": {},
   "outputs": [
    {
     "name": "stdout",
     "output_type": "stream",
     "text": [
      "{'min_samples_split': 5, 'min_samples_leaf': 4, 'max_depth': 7, 'criterion': 'entropy'}\n",
      "0.7608695652173914\n"
     ]
    }
   ],
   "source": [
    "import warnings\n",
    "rd_cv=RandomizedSearchCV(estimator=clf,param_distributions=parmeter,cv=5, n_iter=10)\n",
    "\n",
    "rd_cv.fit(X_train,y_train)\n",
    "\n",
    "print(rd_cv.best_params_)\n",
    "\n",
    "print(rd_cv.best_score_)"
   ]
  },
  {
   "cell_type": "code",
   "execution_count": 159,
   "metadata": {},
   "outputs": [
    {
     "name": "stdout",
     "output_type": "stream",
     "text": [
      "{'criterion': 'entropy', 'max_depth': 6, 'min_samples_leaf': 1, 'min_samples_split': 7}\n",
      "0.7608695652173914\n"
     ]
    }
   ],
   "source": [
    "import warnings\n",
    "warnings.filterwarnings('ignore')\n",
    "gd_cv=GridSearchCV(estimator=clf,param_grid=parmeter,cv=5)\n",
    "\n",
    "gd_cv.fit(X_train,y_train)\n",
    "\n",
    "print(gd_cv.best_params_)\n",
    "print(gd_cv.best_score_)\n"
   ]
  },
  {
   "cell_type": "code",
   "execution_count": 160,
   "metadata": {},
   "outputs": [],
   "source": [
    "clf=RandomForestClassifier(bootstrap=True,criterion='entropy',max_depth=5,min_samples_leaf=2,min_samples_split=6)\n",
    "clf.fit(X_train,y_train)\n",
    "y_pred2=clf.predict(X_test)"
   ]
  },
  {
   "cell_type": "code",
   "execution_count": 161,
   "metadata": {},
   "outputs": [
    {
     "data": {
      "text/plain": [
       "array([[ 60,  69],\n",
       "       [ 14, 287]], dtype=int64)"
      ]
     },
     "execution_count": 161,
     "metadata": {},
     "output_type": "execute_result"
    }
   ],
   "source": [
    "from sklearn.metrics import confusion_matrix,accuracy_score,precision_score,recall_score,roc_auc_score,roc_curve\n",
    "\n",
    "confusion_matrix=confusion_matrix(y_test,y_pred2)\n",
    "confusion_matrix"
   ]
  },
  {
   "cell_type": "code",
   "execution_count": 162,
   "metadata": {},
   "outputs": [
    {
     "data": {
      "text/plain": [
       "0.8069767441860465"
      ]
     },
     "execution_count": 162,
     "metadata": {},
     "output_type": "execute_result"
    }
   ],
   "source": [
    "accuracy=accuracy_score(y_test,y_pred2)\n",
    "accuracy"
   ]
  },
  {
   "cell_type": "code",
   "execution_count": 163,
   "metadata": {},
   "outputs": [
    {
     "data": {
      "text/plain": [
       "0.8061797752808989"
      ]
     },
     "execution_count": 163,
     "metadata": {},
     "output_type": "execute_result"
    }
   ],
   "source": [
    "precision=precision_score(y_test,y_pred2)\n",
    "precision"
   ]
  },
  {
   "cell_type": "code",
   "execution_count": 164,
   "metadata": {},
   "outputs": [
    {
     "data": {
      "text/plain": [
       "0.9534883720930233"
      ]
     },
     "execution_count": 164,
     "metadata": {},
     "output_type": "execute_result"
    }
   ],
   "source": [
    "recall=recall_score(y_test,y_pred2)\n",
    "recall"
   ]
  },
  {
   "cell_type": "code",
   "execution_count": 166,
   "metadata": {},
   "outputs": [
    {
     "data": {
      "image/png": "[encoded data removed]",
      "text/plain": [
       "<Figure size 432x288 with 1 Axes>"
      ]
     },
     "metadata": {
      "needs_background": "light"
     },
     "output_type": "display_data"
    }
   ],
   "source": [
    "y_pred_proba2=clf.predict_proba(X_test)[::,1]\n",
    "\n",
    "fpr,tpr,thresholds=roc_curve(y_test,y_pred_proba)\n",
    "\n",
    "auc = roc_auc_score(y_test, y_pred_proba)\n",
    "\n",
    "plt.plot(fpr,tpr,label=\"auc=\"+str(auc))\n",
    "plt.xlabel('False Positive Rate')\n",
    "plt.ylabel('True Positive Rate')\n",
    "plt.title('AUC-ROC Curve')\n",
    "plt.legend(loc=8)\n",
    "plt.show()"
   ]
  },
  {
   "cell_type": "code",
   "execution_count": 177,
   "metadata": {},
   "outputs": [
    {
     "data": {
      "text/plain": [
       "<matplotlib.axes._subplots.AxesSubplot at 0x92523a7f60>"
      ]
     },
     "execution_count": 177,
     "metadata": {},
     "output_type": "execute_result"
    },
    {
     "data": {
      "image/png": "[encoded data removed]",
      "text/plain": [
       "<Figure size 864x576 with 1 Axes>"
      ]
     },
     "metadata": {
      "needs_background": "light"
     },
     "output_type": "display_data"
    }
   ],
   "source": [
    "importances=pd.Series(clf.feature_importances_, index=X_train.columns)\n",
    "importances.plot(kind='barh', figsize=(12,8))"
   ]
  }
 ],
 "metadata": {
  "kernelspec": {
   "display_name": "Python 3",
   "language": "python",
   "name": "python3"
  },
  "language_info": {
   "codemirror_mode": {
    "name": "ipython",
    "version": 3
   },
   "file_extension": ".py",
   "mimetype": "text/x-python",
   "name": "python",
   "nbconvert_exporter": "python",
   "pygments_lexer": "ipython3",
   "version": "3.7.1"
  }
 },
 "nbformat": 4,
 "nbformat_minor": 2
}
